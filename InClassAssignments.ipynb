{
  "nbformat": 4,
  "nbformat_minor": 0,
  "metadata": {
    "colab": {
      "provenance": [],
      "authorship_tag": "ABX9TyMSufiFk5E4lL1AWnTDobsG",
      "include_colab_link": true
    },
    "kernelspec": {
      "name": "python3",
      "display_name": "Python 3"
    },
    "language_info": {
      "name": "python"
    }
  },
  "cells": [
    {
      "cell_type": "markdown",
      "metadata": {
        "id": "view-in-github",
        "colab_type": "text"
      },
      "source": [
        "<a href=\"https://colab.research.google.com/github/JacobBlackman/BTE320/blob/main/InClassAssignments.ipynb\" target=\"_parent\"><img src=\"https://colab.research.google.com/assets/colab-badge.svg\" alt=\"Open In Colab\"/></a>"
      ]
    },
    {
      "cell_type": "code",
      "execution_count": null,
      "metadata": {
        "colab": {
          "base_uri": "https://localhost:8080/"
        },
        "id": "F3nayKluCl-Z",
        "outputId": "d9e118c3-a40f-4eb2-f8a6-4b22c634d7e2"
      },
      "outputs": [
        {
          "output_type": "stream",
          "name": "stdout",
          "text": [
            "244.92000000000002\n"
          ]
        }
      ],
      "source": [
        "h = 10\n",
        "r = 3\n",
        "pi = 3.14\n",
        "\n",
        "Area = 2 * pi * r ** 2 + 2 * pi * r * h\n",
        "\n",
        "print(Area)\n"
      ]
    },
    {
      "cell_type": "code",
      "source": [
        "Player_1 = input('Give move for Player 1, Rock, Paper, or Scissors: ')\n",
        "Player_2 = input('Give move for Player 2, Rock, Paper, or Scissors: ')\n",
        "\n",
        "\n",
        "if Player_1 == Player_2:\n",
        "  return_amount = 'Draw'\n",
        "\n",
        "elif Player_1 == 'Paper' and Player_2 == 'Rock':\n",
        "  return_amount = 'Player 1 Wins'\n",
        "elif Player_1 == 'Rock' and Player_2 == 'Paper':\n",
        "  return_amount = 'Player 2 Wins'\n",
        "\n",
        "elif Player_1 == 'Scissors' and Player_2 == 'Paper':\n",
        "  return_amount = 'Player 1 Wins'\n",
        "elif Player_1 == 'Paper' and Player_2 == 'Scissors':\n",
        "  return_amount = 'Player 2 Wins'\n",
        "\n",
        "elif Player_1 == 'Rock' and Player_2 == 'Scissors':\n",
        "  return_amount = 'Player 1 Wins'\n",
        "elif Player_1 == 'Scissors' and Player_2 == 'Rock':\n",
        "  return_amount = 'Player 2 Wins'\n",
        "\n",
        "print(return_amount)"
      ],
      "metadata": {
        "colab": {
          "base_uri": "https://localhost:8080/"
        },
        "collapsed": true,
        "id": "gGLSupOwLZy-",
        "outputId": "902381a7-d0c0-4a4d-98f7-504b3ac0c9d7"
      },
      "execution_count": null,
      "outputs": [
        {
          "output_type": "stream",
          "name": "stdout",
          "text": [
            "Give move for Player 1, Rock, Paper, or Scissors: Scissors\n",
            "Give move for Player 2, Rock, Paper, or Scissors: Paper\n",
            "Player 1 Wins\n"
          ]
        }
      ]
    },
    {
      "cell_type": "code",
      "source": [
        "p1 = input(\"Choose rock, paper, scissors: \")\n",
        "p2 = input(\"Choose rock, paper, scissors: \")\n",
        "\n",
        "if p1 == p2:\n",
        "  print(draw)\n",
        "elif p1== 'rock' and p2== 'scissors':\n",
        "  print('Player 1 wins!')\n",
        "elif p1== 'scissors' and p2== 'paper':\n",
        "  print('Player 1 wins!')\n",
        "elif p1== 'paper' and p2== 'rock':\n",
        "  print('Player 1 wins!')\n",
        "else:\n",
        "  print('Player 2 wins!')"
      ],
      "metadata": {
        "colab": {
          "base_uri": "https://localhost:8080/"
        },
        "id": "Kp6ELlILPLp-",
        "outputId": "b3ffef42-7304-46fa-d26a-0e3a23e20084"
      },
      "execution_count": null,
      "outputs": [
        {
          "output_type": "stream",
          "name": "stdout",
          "text": [
            "Choose rock, paper, scissors: paper\n",
            "Choose rock, paper, scissors: rock\n",
            "Player 1 wins!\n"
          ]
        }
      ]
    },
    {
      "cell_type": "code",
      "source": [
        "Value1 = float(input('Choose a number: '))\n",
        "Value2 = float(input('Choose a number: '))\n",
        "Symbol = str(input('Choose a symbol (+, -, *, /, **): '))\n",
        "\n",
        "if Symbol == '+':\n",
        "  print (Value1+Value2)\n",
        "elif Symbol == '-':\n",
        "   print (Value1-Value2)\n",
        "elif Symbol == '*':\n",
        "   print (Value1*Value2)\n",
        "elif Symbol == '/':\n",
        "   print (Value1/Value2)\n",
        "elif Symbol == '**':\n",
        "   print (Value1**Value2)\n",
        "\n"
      ],
      "metadata": {
        "colab": {
          "base_uri": "https://localhost:8080/"
        },
        "id": "_s3nhQIwWtfF",
        "outputId": "25c1bcd2-c20b-4474-c25b-0fb90cc6670c"
      },
      "execution_count": null,
      "outputs": [
        {
          "output_type": "stream",
          "name": "stdout",
          "text": [
            "Choose a number: 5\n",
            "Choose a number: 5\n",
            "Choose a symbol (+, -, *, /, **): *\n",
            "25.0\n"
          ]
        }
      ]
    },
    {
      "cell_type": "code",
      "source": [
        "n1 = float(input('enter number: '))\n",
        "n2 = float(input('enter number: '))\n",
        "symbol = input('Choose operator (+, -, *, /, **): ')\n",
        "\n",
        "if symbol == '+':\n",
        "  print(n1+n2)\n",
        "elif symbol == '-':\n",
        "  print(n1-n2)\n",
        "elif symbol == '*':\n",
        "  print(n1*n2)\n",
        "elif symbol == '/':\n",
        "  print(n1/n2)\n",
        "else:\n",
        "  print(n1**n2)"
      ],
      "metadata": {
        "colab": {
          "base_uri": "https://localhost:8080/"
        },
        "id": "xpg_O67eZ8pV",
        "outputId": "cc604d44-722e-4f53-8a8d-1837cbc20881"
      },
      "execution_count": null,
      "outputs": [
        {
          "output_type": "stream",
          "name": "stdout",
          "text": [
            "enter number: 5\n",
            "enter number: 3\n",
            "Choose operator (+, -, *, /, **): **\n",
            "125.0\n"
          ]
        }
      ]
    }
  ]
}