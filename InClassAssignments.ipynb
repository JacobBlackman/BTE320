{
  "cells": [
    {
      "cell_type": "markdown",
      "metadata": {
        "id": "view-in-github",
        "colab_type": "text"
      },
      "source": [
        "<a href=\"https://colab.research.google.com/github/JacobBlackman/BTE320/blob/main/InClassAssignments.ipynb\" target=\"_parent\"><img src=\"https://colab.research.google.com/assets/colab-badge.svg\" alt=\"Open In Colab\"/></a>"
      ]
    },
    {
      "cell_type": "code",
      "execution_count": null,
      "metadata": {
        "colab": {
          "base_uri": "https://localhost:8080/"
        },
        "id": "F3nayKluCl-Z",
        "outputId": "d9e118c3-a40f-4eb2-f8a6-4b22c634d7e2"
      },
      "outputs": [
        {
          "name": "stdout",
          "output_type": "stream",
          "text": [
            "244.92000000000002\n"
          ]
        }
      ],
      "source": [
        "#Shape Area Calculator\n",
        "h = 10\n",
        "r = 3\n",
        "pi = 3.14\n",
        "\n",
        "Area = 2 * pi * r ** 2 + 2 * pi * r * h\n",
        "\n",
        "print(Area)\n"
      ]
    },
    {
      "cell_type": "code",
      "execution_count": null,
      "metadata": {
        "colab": {
          "base_uri": "https://localhost:8080/"
        },
        "collapsed": true,
        "id": "gGLSupOwLZy-",
        "outputId": "902381a7-d0c0-4a4d-98f7-504b3ac0c9d7"
      },
      "outputs": [
        {
          "name": "stdout",
          "output_type": "stream",
          "text": [
            "Give move for Player 1, Rock, Paper, or Scissors: Scissors\n",
            "Give move for Player 2, Rock, Paper, or Scissors: Paper\n",
            "Player 1 Wins\n"
          ]
        }
      ],
      "source": [
        "#Rock-Paper-Scissors (without the while loop)\n",
        "Player_1 = input('Give move for Player 1, Rock, Paper, or Scissors: ')\n",
        "Player_2 = input('Give move for Player 2, Rock, Paper, or Scissors: ')\n",
        "\n",
        "\n",
        "if Player_1 == Player_2:\n",
        "  return_amount = 'Draw'\n",
        "\n",
        "elif Player_1 == 'Paper' and Player_2 == 'Rock':\n",
        "  return_amount = 'Player 1 Wins'\n",
        "elif Player_1 == 'Rock' and Player_2 == 'Paper':\n",
        "  return_amount = 'Player 2 Wins'\n",
        "\n",
        "elif Player_1 == 'Scissors' and Player_2 == 'Paper':\n",
        "  return_amount = 'Player 1 Wins'\n",
        "elif Player_1 == 'Paper' and Player_2 == 'Scissors':\n",
        "  return_amount = 'Player 2 Wins'\n",
        "\n",
        "elif Player_1 == 'Rock' and Player_2 == 'Scissors':\n",
        "  return_amount = 'Player 1 Wins'\n",
        "elif Player_1 == 'Scissors' and Player_2 == 'Rock':\n",
        "  return_amount = 'Player 2 Wins'\n",
        "\n",
        "print(return_amount)"
      ]
    },
    {
      "cell_type": "code",
      "execution_count": null,
      "metadata": {
        "colab": {
          "base_uri": "https://localhost:8080/"
        },
        "id": "tKRcorVnSlml",
        "outputId": "7697c9b0-6f82-4dbd-bc49-939f67e919fb"
      },
      "outputs": [
        {
          "name": "stdout",
          "output_type": "stream",
          "text": [
            "Do you want to play a game? yes\n",
            "Choose rock, paper, scissors: rock\n",
            "Computer chose rock.\n",
            "draw\n",
            "Do you want to play again? no\n"
          ]
        }
      ],
      "source": [
        "#Rock-Paper-Scissors (with the while loop)\n",
        "import random\n",
        "choice = input(\"Do you want to play a game? \").lower()\n",
        "while choice == 'yes':\n",
        "  p1 = input(\"Choose rock, paper, scissors: \").lower()\n",
        "  p2 = random.choice(['rock', 'paper', 'scissors'])\n",
        "  print(f'Computer chose {p2}.')\n",
        "\n",
        "  if p1 == p2:\n",
        "    print('draw')\n",
        "  elif p1== 'rock' and p2== 'scissors':\n",
        "    print('You Win!')\n",
        "  elif p1== 'scissors' and p2== 'paper':\n",
        "    print('You Win!')\n",
        "  elif p1== 'paper' and p2== 'rock':\n",
        "    print('You Win!')\n",
        "  else:\n",
        "    print('Player 2 wins!')\n",
        "  choice = input(\"Do you want to play again? \")"
      ]
    },
    {
      "cell_type": "code",
      "execution_count": null,
      "metadata": {
        "colab": {
          "base_uri": "https://localhost:8080/"
        },
        "id": "_s3nhQIwWtfF",
        "outputId": "4cd95468-75ee-48dc-89f5-90bf3509d7a8"
      },
      "outputs": [
        {
          "name": "stdout",
          "output_type": "stream",
          "text": [
            "Choose a number: 5\n",
            "Choose a number: 5\n",
            "Choose a symbol (+, -, *, /, **): +\n",
            "10.0\n"
          ]
        }
      ],
      "source": [
        "#Numerical Calculator Personal\n",
        "Value1 = float(input('Choose a number: '))\n",
        "Value2 = float(input('Choose a number: '))\n",
        "Symbol = str(input('Choose a symbol (+, -, *, /, **): '))\n",
        "\n",
        "if Symbol == '+':\n",
        "  print (Value1+Value2)\n",
        "elif Symbol == '-':\n",
        "   print (Value1-Value2)\n",
        "elif Symbol == '*':\n",
        "   print (Value1*Value2)\n",
        "elif Symbol == '/':\n",
        "   print (Value1/Value2)\n",
        "elif Symbol == '**':\n",
        "   print (Value1**Value2)\n",
        "\n"
      ]
    },
    {
      "cell_type": "code",
      "execution_count": null,
      "metadata": {
        "colab": {
          "base_uri": "https://localhost:8080/"
        },
        "id": "xpg_O67eZ8pV",
        "outputId": "657a4f5f-d4b8-4ef3-9e20-f2d92e9da059"
      },
      "outputs": [
        {
          "name": "stdout",
          "output_type": "stream",
          "text": [
            "enter number: 5\n",
            "enter number: 3\n",
            "Choose operator (+, -, *, /, **): **\n",
            "125.0\n"
          ]
        }
      ],
      "source": [
        "#Numerical Calculator Class\n",
        "n1 = float(input('enter number: '))\n",
        "n2 = float(input('enter number: '))\n",
        "symbol = input('Choose operator (+, -, *, /, **): ')\n",
        "\n",
        "if symbol == '+':\n",
        "  print(n1+n2)\n",
        "elif symbol == '-':\n",
        "  print(n1-n2)\n",
        "elif symbol == '*':\n",
        "  print(n1*n2)\n",
        "elif symbol == '/':\n",
        "  print(n1/n2)\n",
        "else:\n",
        "  print(n1**n2)"
      ]
    },
    {
      "cell_type": "code",
      "execution_count": null,
      "metadata": {
        "colab": {
          "base_uri": "https://localhost:8080/"
        },
        "id": "VEvp7rI3aCrp",
        "outputId": "fbb2a138-5151-43ca-bc43-8a0be64f5403"
      },
      "outputs": [
        {
          "name": "stdout",
          "output_type": "stream",
          "text": [
            "1 10.0\n",
            "2 10.0\n",
            "3 12.5\n",
            "4 15.0\n",
            "5 17.5\n",
            "6 20.0\n",
            "7 20.0\n",
            "8 20.0\n"
          ]
        }
      ],
      "source": [
        "#Parking Garage\n",
        "flatrate = 5\n",
        "hourlyrate = 2.5\n",
        "\n",
        "for hour in range (1,9,1):\n",
        "  charge = flatrate + hourlyrate * hour\n",
        "  if charge < 10:\n",
        "    charge = 10.0\n",
        "  elif charge > 20:\n",
        "    charge = 20.0\n",
        "\n",
        "  print(hour, charge)"
      ]
    },
    {
      "cell_type": "code",
      "execution_count": null,
      "metadata": {
        "colab": {
          "base_uri": "https://localhost:8080/"
        },
        "id": "mrIrG5hXkcLu",
        "outputId": "de9610c3-9791-4d44-9dc7-d62adf197835"
      },
      "outputs": [
        {
          "name": "stdout",
          "output_type": "stream",
          "text": [
            "0 0\n",
            "25 75\n",
            "50 90\n",
            "75 105\n",
            "100 100\n",
            "125 95\n",
            "150 90\n",
            "175 85\n",
            "200 80\n"
          ]
        }
      ],
      "source": [
        "# Movie Theater Problem\n",
        "ticket = 10\n",
        "fixedcosts = 200\n",
        "\n",
        "for ad in range (0,201,25):\n",
        "  additional = 2*round(ad**.5)\n",
        "  profit = (20 + additional)*10-200-ad\n",
        "\n",
        "  print(ad, profit)"
      ]
    },
    {
      "cell_type": "code",
      "execution_count": null,
      "metadata": {
        "colab": {
          "base_uri": "https://localhost:8080/"
        },
        "id": "syaOJOodmJXL",
        "outputId": "f6b3fcff-1e04-47e2-d414-db57466ed973"
      },
      "outputs": [
        {
          "name": "stdout",
          "output_type": "stream",
          "text": [
            "Give a value: 1\n",
            "Give another value: 2\n",
            "Give another value: 3\n",
            "Give another value: 4\n",
            "Give another value: 5\n",
            "Give another value: 6\n",
            "Give another value: 7\n",
            "Give another value: 8\n",
            "Give another value: 9\n",
            "Give another value: 0\n",
            "[1, 2, 3, 4, 5, 6, 7, 8, 9]\n"
          ]
        }
      ],
      "source": [
        "# Askes User to Provide Interger Values Until User Inputs 0\n",
        "List=[]\n",
        "item = int(input('Give a value: '))\n",
        "\n",
        "while item != 0:\n",
        "  List.append(item)\n",
        "  item = int(input('Give another value: '))\n",
        "\n",
        "\n",
        "print(List)"
      ]
    },
    {
      "cell_type": "code",
      "execution_count": null,
      "metadata": {
        "colab": {
          "base_uri": "https://localhost:8080/"
        },
        "id": "NuYX_vLYaBhb",
        "outputId": "4a34f010-1eec-4347-df12-53408d3e4e93"
      },
      "outputs": [
        {
          "data": {
            "text/plain": [
              "{1: 'Jan',\n",
              " 2: 'Feb',\n",
              " 3: 'Mar',\n",
              " 4: 'Apr',\n",
              " 5: 'May',\n",
              " 6: 'Jun',\n",
              " 7: 'Jul',\n",
              " 8: 'Aug',\n",
              " 9: 'Sep',\n",
              " 10: 'Oct',\n",
              " 11: 'Nov',\n",
              " 12: 'Dec'}"
            ]
          },
          "execution_count": 4,
          "metadata": {},
          "output_type": "execute_result"
        }
      ],
      "source": [
        "#Personal\n",
        "months = {}\n",
        "\n",
        "names = [\"Jan\",\"Feb\",\"Mar\",\"Apr\",\"May\",\"Jun\",\"Jul\",\"Aug\",\"Sep\",\"Oct\",\"Nov\",\"Dec\"]\n",
        "numbers = [1,2,3,4,5,6,7,8,9,10,11,12]\n",
        "\n",
        "for i in range(len(names)):\n",
        "  months[i+1] = names[i]\n",
        "months"
      ]
    },
    {
      "cell_type": "code",
      "execution_count": null,
      "metadata": {
        "colab": {
          "base_uri": "https://localhost:8080/"
        },
        "id": "015Rc85qaKah",
        "outputId": "d638cd7d-fefa-43c6-ec61-b011b144b488"
      },
      "outputs": [
        {
          "data": {
            "text/plain": [
              "{1: 'Jan',\n",
              " 2: 'Feb',\n",
              " 3: 'Mar',\n",
              " 4: 'Apr',\n",
              " 5: 'May',\n",
              " 6: 'Jun',\n",
              " 7: 'Jul',\n",
              " 8: 'Aug',\n",
              " 9: 'Sep',\n",
              " 10: 'Oct',\n",
              " 11: 'Nov',\n",
              " 12: 'Dec'}"
            ]
          },
          "execution_count": 30,
          "metadata": {},
          "output_type": "execute_result"
        }
      ],
      "source": [
        "# In-Class Model\n",
        "months = {}\n",
        "\n",
        "names = [\"Jan\",\"Feb\",\"Mar\",\"Apr\",\"May\",\"Jun\",\"Jul\",\"Aug\",\"Sep\",\"Oct\",\"Nov\",\"Dec\"]\n",
        "numbers = [1,2,3,4,5,6,7,8,9,10,11,12]\n",
        "\n",
        "for i in range(len(names)):\n",
        "  months[numbers[i]] = names[i]\n",
        "months"
      ]
    },
    {
      "cell_type": "code",
      "execution_count": null,
      "metadata": {
        "colab": {
          "base_uri": "https://localhost:8080/"
        },
        "id": "QcdsRvzvV954",
        "outputId": "6c8ef9e2-b50f-4736-c9d6-54c99602ca8a"
      },
      "outputs": [
        {
          "data": {
            "text/plain": [
              "{1: 'Jan',\n",
              " 2: 'Feb',\n",
              " 3: 'Mar',\n",
              " 4: 'Apr',\n",
              " 5: 'May',\n",
              " 6: 'Jun',\n",
              " 7: 'Jul',\n",
              " 8: 'Aug',\n",
              " 9: 'Sep',\n",
              " 10: 'Oct',\n",
              " 11: 'Nov',\n",
              " 12: 'Dec'}"
            ]
          },
          "execution_count": 2,
          "metadata": {},
          "output_type": "execute_result"
        }
      ],
      "source": [
        "#In-Class Model 2\n",
        "months = {}\n",
        "\n",
        "names = [\"Jan\",\"Feb\",\"Mar\",\"Apr\",\"May\",\"Jun\",\"Jul\",\"Aug\",\"Sep\",\"Oct\",\"Nov\",\"Dec\"]\n",
        "numbers = [1,2,3,4,5,6,7,8,9,10,11,12]\n",
        "\n",
        "for i in range(1,13):\n",
        "  months[i]= names[i-1]\n",
        "months"
      ]
    },
    {
      "cell_type": "code",
      "execution_count": null,
      "metadata": {
        "colab": {
          "base_uri": "https://localhost:8080/"
        },
        "id": "9-l6NiWThCxi",
        "outputId": "a5059c58-8e4e-46dc-f640-d217847486fb"
      },
      "outputs": [
        {
          "name": "stdout",
          "output_type": "stream",
          "text": [
            "1\n",
            "2\n",
            "3\n",
            "4\n",
            "5\n",
            "6\n",
            "7\n",
            "8\n",
            "9\n",
            "10\n",
            "11\n",
            "12\n"
          ]
        }
      ],
      "source": [
        "for key in months.keys():\n",
        "  print(key)\n"
      ]
    },
    {
      "cell_type": "code",
      "execution_count": null,
      "metadata": {
        "colab": {
          "base_uri": "https://localhost:8080/"
        },
        "id": "Q38BWYfSHLY5",
        "outputId": "99386782-9b45-42b4-d968-da19a3bd03ad"
      },
      "outputs": [
        {
          "name": "stdout",
          "output_type": "stream",
          "text": [
            "Enter annual salary: 120000\n",
            "Enter the percent of your salary to save: .1\n",
            "Enter cost: 1000000\n",
            "Number of months: 183\n"
          ]
        }
      ],
      "source": [
        "# Assignment 1: House Hunting\n",
        "annual_salary = float(input(\"Enter annual salary: \"))\n",
        "portion_saved = float(input(\"Enter the percent of your salary to save: \"))\n",
        "total_cost = float(input(\"Enter cost: \"))\n",
        "\n",
        "portion_down_payment = 0.25\n",
        "current_savings = 0.0\n",
        "r = 0.04\n",
        "months = 0\n",
        "\n",
        "down_payment = total_cost * portion_down_payment\n",
        "\n",
        "while current_savings <= down_payment:\n",
        "    current_savings += current_savings * r / 12\n",
        "    current_savings += (annual_salary / 12) * portion_saved\n",
        "    months += 1\n",
        "\n",
        "print(\"Number of months:\", months)"
      ]
    },
    {
      "cell_type": "code",
      "execution_count": null,
      "metadata": {
        "colab": {
          "base_uri": "https://localhost:8080/"
        },
        "id": "GpzskaHJI1UY",
        "outputId": "4753ede6-e74d-4a5a-907c-f8dc90dd3218"
      },
      "outputs": [
        {
          "name": "stdout",
          "output_type": "stream",
          "text": [
            "Enter annual salary: 120000\n",
            "Enter the percent of your salary to save: .05\n",
            "Enter cost: 500000\n",
            "Enter the semi-annual raise: .03\n",
            "Number of months: 142\n"
          ]
        }
      ],
      "source": [
        "# Assignment 2:\n",
        "annual_salary = float(input(\"Enter annual salary: \"))\n",
        "portion_saved = float(input(\"Enter the percent of your salary to save: \"))\n",
        "total_cost = float(input(\"Enter cost: \"))\n",
        "semi_annual_raise = float(input(\"Enter the semi-annual raise: \"))\n",
        "\n",
        "portion_down_payment = 0.25\n",
        "current_savings = 0.0\n",
        "r = 0.04\n",
        "months = 0\n",
        "\n",
        "down_payment = total_cost * portion_down_payment\n",
        "\n",
        "while current_savings < down_payment:\n",
        "    current_savings += current_savings * r / 12\n",
        "    current_savings += (annual_salary / 12) * portion_saved\n",
        "    months += 1\n",
        "    if months % 6 == 0:\n",
        "        annual_salary += annual_salary * semi_annual_raise\n",
        "\n",
        "print(\"Number of months:\", months)"
      ]
    },
    {
      "cell_type": "code",
      "execution_count": null,
      "metadata": {
        "colab": {
          "base_uri": "https://localhost:8080/"
        },
        "id": "ixlL6n3hKbBb",
        "outputId": "bba43cdb-ed4d-4ff1-b932-320db1749665"
      },
      "outputs": [
        {
          "name": "stdout",
          "output_type": "stream",
          "text": [
            "Enter a number: 3\n",
            "Enter the start of the range: 2\n",
            "Enter the end of the range: 4\n",
            "True\n"
          ]
        }
      ],
      "source": [
        "# Assignment 3: Check if a number is within a range\n",
        "number = int(input(\"Enter a number: \"))\n",
        "low = int(input(\"Enter the start of the range: \"))\n",
        "high = int(input(\"Enter the end of the range: \"))\n",
        "\n",
        "def range_check(number, low, high):\n",
        "    if low <= number <= high: # or if num >= low and num <= high\n",
        "      return True\n",
        "    else:\n",
        "      return False\n",
        "\n",
        "print(range_check(number,low,high))"
      ]
    },
    {
      "cell_type": "code",
      "execution_count": null,
      "metadata": {
        "colab": {
          "base_uri": "https://localhost:8080/"
        },
        "id": "ruv8wvhpd-Oy",
        "outputId": "c6df232f-5d88-4dff-e520-7dced2e61404"
      },
      "outputs": [
        {
          "name": "stdout",
          "output_type": "stream",
          "text": [
            "Enter hours for parking: 4\n",
            "15.0\n"
          ]
        }
      ],
      "source": [
        "#Parking Garage - Initial Problem\n",
        "def calcFee(hours):\n",
        "  fee = 5 + hours * 2.5\n",
        "  return fee\n",
        "\n",
        "hours_parked = int(input('Enter hours for parking: '))\n",
        "f = calcFee(hours_parked)\n",
        "print(f)"
      ]
    },
    {
      "cell_type": "code",
      "execution_count": null,
      "metadata": {
        "colab": {
          "base_uri": "https://localhost:8080/"
        },
        "id": "M_D5FO0miX1j",
        "outputId": "85ab25f7-83d9-4399-f42d-86e7117ecee6"
      },
      "outputs": [
        {
          "name": "stdout",
          "output_type": "stream",
          "text": [
            "Enter hours for parking: 4\n",
            "15.0\n"
          ]
        }
      ],
      "source": [
        "#Parking Garage Enhancements\n",
        "def calcFee(hours, decimals=2):\n",
        "  fee = 5 + hours * 2.5\n",
        "  fee = round(fee, decimals)\n",
        "  return fee\n",
        "\n",
        "def displayFee(fee):\n",
        "  print(fee)\n",
        "\n",
        "hours_parked = int(input('Enter hours for parking: '))\n",
        "f = calcFee(hours_parked)\n",
        "x = displayFee(f)"
      ]
    },
    {
      "cell_type": "code",
      "execution_count": null,
      "metadata": {
        "colab": {
          "background_save": true,
          "base_uri": "https://localhost:8080/",
          "height": 35
        },
        "id": "wQGG2MrHkgIp",
        "outputId": "112dab07-7d71-4115-b913-1f4b20342d10"
      },
      "outputs": [
        {
          "data": {
            "application/vnd.google.colaboratory.intrinsic+json": {
              "type": "string"
            },
            "text/plain": [
              "'olleH'"
            ]
          },
          "execution_count": 7,
          "metadata": {},
          "output_type": "execute_result"
        }
      ],
      "source": [
        "#Recurssion\n",
        "def rev(S):\n",
        "  if len(S) == 5:\n",
        "    return \"olleH\"\n",
        "  else:\n",
        "    return S(-1) + rev(S[:-1])\n",
        "\n",
        "rev(\"Hell\")"
      ]
    },
    {
      "cell_type": "code",
      "source": [
        "'''\n",
        "Function that calculates the weighted average list L, given weights w\n",
        "The function sshould handle the folowing exception error types:\n",
        "- ZeroDividionError (returns empty list)\n",
        "- TypeError (returns empty list)\n",
        "- anyother unknown error (returns float('nan'))\n",
        "\n",
        "'''\n",
        "def wAvg(L, w):\n",
        "  res = []\n",
        "  try:\n",
        "    for i in range(len(L)):\n",
        "      res.append(L[i]*w[i])\n",
        "    return sum(res) / sum(w)\n",
        "  except ZeroDivisionError:\n",
        "    print(\"Division by Zero.\")\n",
        "    return []\n",
        "  except TypeError:\n",
        "    print(\"Non-numerical object found.\")\n",
        "    return []\n",
        "  except Exception as e:\n",
        "    print(f'Uknown error: {e}')\n",
        "    return float('nan')\n",
        "\n",
        "wAvg([1,2,3],[.25,.5,.25])"
      ],
      "metadata": {
        "colab": {
          "base_uri": "https://localhost:8080/"
        },
        "id": "Vlttabm39daX",
        "outputId": "3e20589e-e5e6-4e75-e726-77db9a594946"
      },
      "execution_count": null,
      "outputs": [
        {
          "output_type": "execute_result",
          "data": {
            "text/plain": [
              "2.0"
            ]
          },
          "metadata": {},
          "execution_count": 37
        }
      ]
    },
    {
      "cell_type": "code",
      "source": [
        "#Define a class names Student. Student has twoo attributes:\n",
        "class Student:\n",
        "  def __init__(self, name, number):\n",
        "    self.name = name\n",
        "    self.number = number\n",
        "\n",
        "  def __str__(self):\n",
        "    return f'Name: {self.name}.'"
      ],
      "metadata": {
        "id": "sKpHgbPp25-V"
      },
      "execution_count": 9,
      "outputs": []
    },
    {
      "cell_type": "code",
      "source": [
        "s1 = Student(\"James Bond\", \"007\")\n",
        "s2 = Student(\"Clark Kent\", \"333\")"
      ],
      "metadata": {
        "id": "-wsV4kMf42wb"
      },
      "execution_count": 10,
      "outputs": []
    },
    {
      "cell_type": "code",
      "source": [
        "print(s1)"
      ],
      "metadata": {
        "colab": {
          "base_uri": "https://localhost:8080/"
        },
        "id": "KAsAVI7S7GRK",
        "outputId": "166bf663-23e3-4957-ee24-4e02788c84b3"
      },
      "execution_count": 12,
      "outputs": [
        {
          "output_type": "stream",
          "name": "stdout",
          "text": [
            "Name: James Bond.\n"
          ]
        }
      ]
    }
  ],
  "metadata": {
    "colab": {
      "provenance": [],
      "authorship_tag": "ABX9TyNqeMpBThew2WcRj5gH7ouN",
      "include_colab_link": true
    },
    "kernelspec": {
      "display_name": "Python 3",
      "name": "python3"
    },
    "language_info": {
      "name": "python"
    }
  },
  "nbformat": 4,
  "nbformat_minor": 0
}